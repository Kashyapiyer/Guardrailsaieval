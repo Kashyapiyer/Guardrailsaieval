{
  "cells": [
    {
      "cell_type": "markdown",
      "metadata": {
        "id": "3QoKP64_ElSD"
      },
      "source": []
    },
    {
      "cell_type": "code",
      "source": [
        "import torch\n",
        "torch.cuda.empty_cache()"
      ],
      "metadata": {
        "id": "BvjtBrJ-qhte"
      },
      "execution_count": 3,
      "outputs": []
    },
    {
      "cell_type": "code",
      "execution_count": 1,
      "metadata": {
        "id": "wwkAmFquqO87",
        "colab": {
          "base_uri": "https://localhost:8080/"
        },
        "outputId": "2b5b5107-f670-43e2-ede7-976925d7add6"
      },
      "outputs": [
        {
          "output_type": "stream",
          "name": "stdout",
          "text": [
            "\u001b[2K     \u001b[90m━━━━━━━━━━━━━━━━━━━━━━━━━━━━━━━━━━━━━━━━\u001b[0m \u001b[32m207.2/207.2 kB\u001b[0m \u001b[31m4.0 MB/s\u001b[0m eta \u001b[36m0:00:00\u001b[0m\n",
            "\u001b[2K     \u001b[90m━━━━━━━━━━━━━━━━━━━━━━━━━━━━━━━━━━━━━━━━\u001b[0m \u001b[32m67.4/67.4 kB\u001b[0m \u001b[31m4.4 MB/s\u001b[0m eta \u001b[36m0:00:00\u001b[0m\n",
            "\u001b[2K     \u001b[90m━━━━━━━━━━━━━━━━━━━━━━━━━━━━━━━━━━━━━━━━\u001b[0m \u001b[32m321.8/321.8 kB\u001b[0m \u001b[31m7.7 MB/s\u001b[0m eta \u001b[36m0:00:00\u001b[0m\n",
            "\u001b[2K     \u001b[90m━━━━━━━━━━━━━━━━━━━━━━━━━━━━━━━━━━━━━━━━\u001b[0m \u001b[32m107.0/107.0 kB\u001b[0m \u001b[31m6.1 MB/s\u001b[0m eta \u001b[36m0:00:00\u001b[0m\n",
            "\u001b[2K     \u001b[90m━━━━━━━━━━━━━━━━━━━━━━━━━━━━━━━━━━━━━━━━\u001b[0m \u001b[32m52.5/52.5 kB\u001b[0m \u001b[31m7.0 MB/s\u001b[0m eta \u001b[36m0:00:00\u001b[0m\n",
            "\u001b[2K     \u001b[90m━━━━━━━━━━━━━━━━━━━━━━━━━━━━━━━━━━━━━━━━\u001b[0m \u001b[32m130.5/130.5 kB\u001b[0m \u001b[31m7.4 MB/s\u001b[0m eta \u001b[36m0:00:00\u001b[0m\n",
            "\u001b[?25h"
          ]
        }
      ],
      "source": [
        "!pip3 install -q -r '/content/requirementsguard.txt'"
      ]
    },
    {
      "cell_type": "code",
      "execution_count": null,
      "metadata": {
        "id": "oH4jf5C6HZWI"
      },
      "outputs": [],
      "source": []
    },
    {
      "cell_type": "code",
      "execution_count": 2,
      "metadata": {
        "colab": {
          "base_uri": "https://localhost:8080/"
        },
        "id": "pLiHG5uagrdx",
        "outputId": "adcd233e-3eba-4d20-e92c-d7c338047c75"
      },
      "outputs": [
        {
          "output_type": "stream",
          "name": "stdout",
          "text": [
            "\u001b[1m                                                                                                    \u001b[0m\n",
            "\u001b[1m \u001b[0m\u001b[1;33mUsage: \u001b[0m\u001b[1mguardrails [OPTIONS] COMMAND [ARGS]...\u001b[0m\u001b[1m                                                     \u001b[0m\u001b[1m \u001b[0m\n",
            "\u001b[1m                                                                                                    \u001b[0m\n",
            "\u001b[2m╭─\u001b[0m\u001b[2m Options \u001b[0m\u001b[2m───────────────────────────────────────────────────────────────────────────────────────\u001b[0m\u001b[2m─╮\u001b[0m\n",
            "\u001b[2m│\u001b[0m \u001b[1;36m-\u001b[0m\u001b[1;36m-install\u001b[0m\u001b[1;36m-completion\u001b[0m          Install completion for the current shell.                          \u001b[2m│\u001b[0m\n",
            "\u001b[2m│\u001b[0m \u001b[1;36m-\u001b[0m\u001b[1;36m-show\u001b[0m\u001b[1;36m-completion\u001b[0m             Show completion for the current shell, to copy it or customize the \u001b[2m│\u001b[0m\n",
            "\u001b[2m│\u001b[0m                               installation.                                                      \u001b[2m│\u001b[0m\n",
            "\u001b[2m│\u001b[0m \u001b[1;36m-\u001b[0m\u001b[1;36m-help\u001b[0m                        Show this message and exit.                                        \u001b[2m│\u001b[0m\n",
            "\u001b[2m╰──────────────────────────────────────────────────────────────────────────────────────────────────╯\u001b[0m\n",
            "\u001b[2m╭─\u001b[0m\u001b[2m Commands \u001b[0m\u001b[2m──────────────────────────────────────────────────────────────────────────────────────\u001b[0m\u001b[2m─╮\u001b[0m\n",
            "\u001b[2m│\u001b[0m \u001b[1;36mconfigure      \u001b[0m\u001b[1;36m \u001b[0m                                                                                 \u001b[2m│\u001b[0m\n",
            "\u001b[2m│\u001b[0m \u001b[1;36mhub            \u001b[0m\u001b[1;36m \u001b[0m Manage validators installed from the Guardrails Hub.                            \u001b[2m│\u001b[0m\n",
            "\u001b[2m│\u001b[0m \u001b[1;36mvalidate       \u001b[0m\u001b[1;36m \u001b[0m Validate the output of an LLM against a `rail` spec.                            \u001b[2m│\u001b[0m\n",
            "\u001b[2m╰──────────────────────────────────────────────────────────────────────────────────────────────────╯\u001b[0m\n",
            "\n"
          ]
        }
      ],
      "source": [
        "!guardrails --help"
      ]
    },
    {
      "cell_type": "code",
      "execution_count": 2,
      "metadata": {
        "colab": {
          "base_uri": "https://localhost:8080/"
        },
        "id": "TMQN4SEpi4D9",
        "outputId": "f50225db-8577-470b-c1a1-4da75a7d72d0"
      },
      "outputs": [
        {
          "output_type": "stream",
          "name": "stdout",
          "text": [
            "[nltk_data] Downloading package punkt to /root/nltk_data...\n",
            "[nltk_data]   Unzipping tokenizers/punkt.zip.\n",
            "Token (optional) []: \n",
            "Enable anonymous metrics reporting? [Y/n]: n\n"
          ]
        }
      ],
      "source": [
        "!guardrails configure"
      ]
    },
    {
      "cell_type": "code",
      "source": [
        "packagelist = ['competitor_check', 'toxic_language','regex_match','gibberish_text','detect_pii','nsfw_text', 'profanity_free']\n",
        "\n",
        "for package in packagelist:\n",
        "  !guardrails hub install hub://guardrails/{package}\n",
        "  print(f\"{package} installed\")"
      ],
      "metadata": {
        "colab": {
          "base_uri": "https://localhost:8080/"
        },
        "id": "hl0d7MAZghUq",
        "outputId": "f2f4a4cb-7acc-492a-fc72-32d6a4f995a5"
      },
      "execution_count": 3,
      "outputs": [
        {
          "output_type": "stream",
          "name": "stdout",
          "text": [
            "Installing hub:\u001b[35m/\u001b[0m\u001b[35m/guardrails/\u001b[0m\u001b[95mcompetitor_check...\u001b[0m\n",
            "\u001b[2K\u001b[32m[==  ]\u001b[0m Fetching manifest\n",
            "\u001b[2K\u001b[32m[   =]\u001b[0m Downloading dependencies  Running command git clone --filter=blob:none --quiet https://github.com/guardrails-ai/competitor_check.git /tmp/pip-req-build-u2x4n9_m\n",
            "\u001b[2K\u001b[32m[=   ]\u001b[0m Downloading dependencies\n",
            "\u001b[2K\u001b[32m[  ==]\u001b[0m Running post-install setup\n",
            "\u001b[1A\u001b[2K✅Successfully installed guardrails/competitor_check!\n",
            "\n",
            "\n",
            "\u001b[1mImport validator:\u001b[0m\n",
            "from guardrails.hub import CompetitorCheck\n",
            "\n",
            "\u001b[1mGet more info:\u001b[0m\n",
            "\u001b[4;94mhttps://hub.guardrailsai.com/validator/guardrails/competitor_check\u001b[0m\n",
            "\n",
            "competitor_check installed\n",
            "Installing hub:\u001b[35m/\u001b[0m\u001b[35m/guardrails/\u001b[0m\u001b[95mtoxic_language...\u001b[0m\n",
            "\u001b[2K\u001b[32m[ ===]\u001b[0m Fetching manifest\n",
            "\u001b[2K\u001b[32m[   =]\u001b[0m Downloading dependencies  Running command git clone --filter=blob:none --quiet https://github.com/guardrails-ai/toxic_language.git /tmp/pip-req-build-budmapmg\n",
            "\u001b[2K\u001b[32m[    ]\u001b[0m Downloading dependencies\n",
            "\u001b[2K\u001b[32m[ ===]\u001b[0m Running post-install setupDownloading: \"https://github.com/unitaryai/detoxify/releases/download/v0.1.2/unbiased-albert-c8519128.ckpt\" to /root/.cache/torch/hub/checkpoints/unbiased-albert-c8519128.ckpt\n",
            "100% 44.6M/44.6M [00:00<00:00, 320MB/s]\n",
            "\u001b[2K\u001b[32m[==  ]\u001b[0m Running post-install setup/usr/local/lib/python3.10/dist-packages/huggingface_hub/file_download.py:1132: FutureWarning: `resume_download` is deprecated and will be removed in version 1.0.0. Downloads always resume when possible. If you want to force a new download, use `force_download=True`.\n",
            "  warnings.warn(\n",
            "config.json: 100% 684/684 [00:00<00:00, 5.24MB/s]\n",
            "tokenizer_config.json: 100% 25.0/25.0 [00:00<00:00, 193kB/s]\n",
            "spiece.model: 100% 760k/760k [00:00<00:00, 10.7MB/s]\n",
            "tokenizer.json: 100% 1.31M/1.31M [00:00<00:00, 54.5MB/s]\n",
            "\u001b[2K\u001b[32m[ ===]\u001b[0m Running post-install setup\n",
            "\u001b[1A\u001b[2K✅Successfully installed guardrails/toxic_language!\n",
            "\n",
            "\n",
            "\u001b[1mImport validator:\u001b[0m\n",
            "from guardrails.hub import ToxicLanguage\n",
            "\n",
            "\u001b[1mGet more info:\u001b[0m\n",
            "\u001b[4;94mhttps://hub.guardrailsai.com/validator/guardrails/toxic_language\u001b[0m\n",
            "\n",
            "toxic_language installed\n",
            "Installing hub:\u001b[35m/\u001b[0m\u001b[35m/guardrails/\u001b[0m\u001b[95mregex_match...\u001b[0m\n",
            "\u001b[2K\u001b[32m[====]\u001b[0m Fetching manifest\n",
            "\u001b[2K\u001b[32m[   =]\u001b[0m Downloading dependencies  Running command git clone --filter=blob:none --quiet https://github.com/guardrails-ai/regex_match.git /tmp/pip-req-build-mggpj61o\n",
            "\u001b[2K\u001b[32m[    ]\u001b[0m Downloading dependencies\n",
            "\u001b[1A\u001b[2K\u001b[?25l\u001b[32m[    ]\u001b[0m Running post-install setup\n",
            "\u001b[1A\u001b[2K✅Successfully installed guardrails/regex_match!\n",
            "\n",
            "\n",
            "\u001b[1mImport validator:\u001b[0m\n",
            "from guardrails.hub import RegexMatch\n",
            "\n",
            "\u001b[1mGet more info:\u001b[0m\n",
            "\u001b[4;94mhttps://hub.guardrailsai.com/validator/guardrails/regex_match\u001b[0m\n",
            "\n",
            "regex_match installed\n",
            "Installing hub:\u001b[35m/\u001b[0m\u001b[35m/guardrails/\u001b[0m\u001b[95mgibberish_text...\u001b[0m\n",
            "\u001b[2K\u001b[32m[ ===]\u001b[0m Fetching manifest\n",
            "\u001b[2K\u001b[32m[   =]\u001b[0m Downloading dependencies  Running command git clone --filter=blob:none --quiet https://github.com/guardrails-ai/gibberish_text.git /tmp/pip-req-build-mlm2oygv\n",
            "\u001b[2K\u001b[32m[=   ]\u001b[0m Downloading dependencies\n",
            "\u001b[2K\u001b[32m[==  ]\u001b[0m Running post-install setup2024-06-25 18:36:52.200926: E external/local_xla/xla/stream_executor/cuda/cuda_dnn.cc:9261] Unable to register cuDNN factory: Attempting to register factory for plugin cuDNN when one has already been registered\n",
            "2024-06-25 18:36:52.201008: E external/local_xla/xla/stream_executor/cuda/cuda_fft.cc:607] Unable to register cuFFT factory: Attempting to register factory for plugin cuFFT when one has already been registered\n",
            "\u001b[2K\u001b[32m[=== ]\u001b[0m Running post-install setup2024-06-25 18:36:52.336632: E external/local_xla/xla/stream_executor/cuda/cuda_blas.cc:1515] Unable to register cuBLAS factory: Attempting to register factory for plugin cuBLAS when one has already been registered\n",
            "\u001b[2K\u001b[32m[   =]\u001b[0m Running post-install setup2024-06-25 18:36:52.586955: I tensorflow/core/platform/cpu_feature_guard.cc:182] This TensorFlow binary is optimized to use available CPU instructions in performance-critical operations.\n",
            "To enable the following instructions: AVX2 FMA, in other operations, rebuild TensorFlow with the appropriate compiler flags.\n",
            "\u001b[2K\u001b[32m[  ==]\u001b[0m Running post-install setup2024-06-25 18:36:54.793461: W tensorflow/compiler/tf2tensorrt/utils/py_utils.cc:38] TF-TRT Warning: Could not find TensorRT\n",
            "config.json: 100% 870/870 [00:00<00:00, 4.43MB/s]\n",
            "model.safetensors: 100% 268M/268M [00:01<00:00, 213MB/s]\n",
            "tokenizer_config.json: 100% 317/317 [00:00<00:00, 1.51MB/s]\n",
            "vocab.txt: 100% 232k/232k [00:00<00:00, 10.8MB/s]\n",
            "tokenizer.json: 100% 466k/466k [00:00<00:00, 6.82MB/s]\n",
            "special_tokens_map.json: 100% 112/112 [00:00<00:00, 692kB/s]\n",
            "\u001b[2K\u001b[32m[====]\u001b[0m Running post-install setup\n",
            "\u001b[1A\u001b[2K✅Successfully installed guardrails/gibberish_text!\n",
            "\n",
            "\n",
            "\u001b[1mImport validator:\u001b[0m\n",
            "from guardrails.hub import GibberishText\n",
            "\n",
            "\u001b[1mGet more info:\u001b[0m\n",
            "\u001b[4;94mhttps://hub.guardrailsai.com/validator/guardrails/gibberish_text\u001b[0m\n",
            "\n",
            "gibberish_text installed\n",
            "Installing hub:\u001b[35m/\u001b[0m\u001b[35m/guardrails/\u001b[0m\u001b[95mdetect_pii...\u001b[0m\n",
            "\u001b[2K\u001b[32m[=== ]\u001b[0m Fetching manifest\n",
            "\u001b[2K\u001b[32m[  ==]\u001b[0m Downloading dependencies  Running command git clone --filter=blob:none --quiet https://github.com/guardrails-ai/detect_pii.git /tmp/pip-req-build-8qq4rnjt\n",
            "\u001b[2K\u001b[32m[   =]\u001b[0m Downloading dependencies\n",
            "\u001b[2K\u001b[32m[ ===]\u001b[0m Running post-install setup\n",
            "\u001b[1A\u001b[2K✅Successfully installed guardrails/detect_pii!\n",
            "\n",
            "\n",
            "\u001b[1mImport validator:\u001b[0m\n",
            "from guardrails.hub import DetectPII\n",
            "\n",
            "\u001b[1mGet more info:\u001b[0m\n",
            "\u001b[4;94mhttps://hub.guardrailsai.com/validator/guardrails/detect_pii\u001b[0m\n",
            "\n",
            "detect_pii installed\n",
            "Installing hub:\u001b[35m/\u001b[0m\u001b[35m/guardrails/\u001b[0m\u001b[95mnsfw_text...\u001b[0m\n",
            "\u001b[2K\u001b[32m[ ===]\u001b[0m Fetching manifest\n",
            "\u001b[2K\u001b[32m[    ]\u001b[0m Downloading dependencies  Running command git clone --filter=blob:none --quiet https://github.com/guardrails-ai/nsfw_text.git /tmp/pip-req-build-dvvdf16b\n",
            "\u001b[2K\u001b[32m[=   ]\u001b[0m Downloading dependencies\n",
            "\u001b[2K\u001b[32m[ ===]\u001b[0m Running post-install setup2024-06-25 18:39:25.552771: E external/local_xla/xla/stream_executor/cuda/cuda_dnn.cc:9261] Unable to register cuDNN factory: Attempting to register factory for plugin cuDNN when one has already been registered\n",
            "2024-06-25 18:39:25.552822: E external/local_xla/xla/stream_executor/cuda/cuda_fft.cc:607] Unable to register cuFFT factory: Attempting to register factory for plugin cuFFT when one has already been registered\n",
            "2024-06-25 18:39:25.554432: E external/local_xla/xla/stream_executor/cuda/cuda_blas.cc:1515] Unable to register cuBLAS factory: Attempting to register factory for plugin cuBLAS when one has already been registered\n",
            "2024-06-25 18:39:25.562406: I tensorflow/core/platform/cpu_feature_guard.cc:182] This TensorFlow binary is optimized to use available CPU instructions in performance-critical operations.\n",
            "To enable the following instructions: AVX2 FMA, in other operations, rebuild TensorFlow with the appropriate compiler flags.\n",
            "\u001b[2K\u001b[32m[ ===]\u001b[0m Running post-install setup2024-06-25 18:39:26.784484: W tensorflow/compiler/tf2tensorrt/utils/py_utils.cc:38] TF-TRT Warning: Could not find TensorRT\n",
            "config.json: 100% 728/728 [00:00<00:00, 5.00MB/s]\n",
            "pytorch_model.bin: 100% 268M/268M [00:01<00:00, 258MB/s]\n",
            "tokenizer_config.json: 100% 360/360 [00:00<00:00, 2.82MB/s]\n",
            "vocab.txt: 100% 232k/232k [00:00<00:00, 8.75MB/s]\n",
            "tokenizer.json: 100% 712k/712k [00:00<00:00, 2.96MB/s]\n",
            "special_tokens_map.json: 100% 125/125 [00:00<00:00, 907kB/s]\n",
            "\u001b[2K\u001b[32m[=   ]\u001b[0m Running post-install setup\n",
            "\u001b[1A\u001b[2K✅Successfully installed guardrails/nsfw_text!\n",
            "\n",
            "\n",
            "\u001b[1mImport validator:\u001b[0m\n",
            "from guardrails.hub import NSFWText\n",
            "\n",
            "\u001b[1mGet more info:\u001b[0m\n",
            "\u001b[4;94mhttps://hub.guardrailsai.com/validator/guardrails/nsfw_text\u001b[0m\n",
            "\n",
            "nsfw_text installed\n",
            "Installing hub:\u001b[35m/\u001b[0m\u001b[35m/guardrails/\u001b[0m\u001b[95mprofanity_free...\u001b[0m\n",
            "\u001b[2K\u001b[32m[=== ]\u001b[0m Fetching manifest\n",
            "\u001b[2K\u001b[32m[   =]\u001b[0m Downloading dependencies  Running command git clone --filter=blob:none --quiet https://github.com/guardrails-ai/profanity_free.git /tmp/pip-req-build-fqgh2tl1\n",
            "\u001b[2K\u001b[32m[   =]\u001b[0m Downloading dependencies\n",
            "\u001b[2K\u001b[32m[=   ]\u001b[0m Running post-install setup\n",
            "\u001b[1A\u001b[2K✅Successfully installed guardrails/profanity_free!\n",
            "\n",
            "\n",
            "\u001b[1mImport validator:\u001b[0m\n",
            "from guardrails.hub import ProfanityFree\n",
            "\n",
            "\u001b[1mGet more info:\u001b[0m\n",
            "\u001b[4;94mhttps://hub.guardrailsai.com/validator/guardrails/profanity_free\u001b[0m\n",
            "\n",
            "profanity_free installed\n"
          ]
        }
      ]
    },
    {
      "cell_type": "code",
      "execution_count": 1,
      "metadata": {
        "id": "feBwn7YaL7lG",
        "colab": {
          "base_uri": "https://localhost:8080/"
        },
        "outputId": "6425441c-2aeb-4811-a887-3e5231ffa439"
      },
      "outputs": [
        {
          "output_type": "stream",
          "name": "stderr",
          "text": [
            "/usr/local/lib/python3.10/dist-packages/guardrails/validators/__init__.py:51: FutureWarning: \n",
            "    Importing validators from `guardrails.validators` is deprecated.\n",
            "    All validators are now available in the Guardrails Hub. Please install\n",
            "    and import them from the hub instead. All validators will be\n",
            "    removed from this module in the next major release.\n",
            "\n",
            "    Install with: `guardrails hub install hub://<namespace>/<validator_name>`\n",
            "    Import as: from guardrails.hub import `ValidatorName`\n",
            "    \n",
            "  warn(\n",
            "WARNING:presidio-analyzer:configuration file /usr/local/lib/python3.10/dist-packages/conf/default.yaml not found.  Using default config: {'nlp_engine_name': 'spacy', 'models': [{'lang_code': 'en', 'model_name': 'en_core_web_lg'}]}.\n",
            "WARNING:presidio-analyzer:configuration file is missing 'ner_model_configuration'. Using default\n",
            "WARNING:presidio-analyzer:model_to_presidio_entity_mapping is missing from configuration, using default\n",
            "WARNING:presidio-analyzer:low_score_entity_names is missing from configuration, using default\n",
            "WARNING:presidio-analyzer:labels_to_ignore is missing from configuration, using default\n"
          ]
        },
        {
          "output_type": "stream",
          "name": "stdout",
          "text": [
            "Validation failed for field with errors: The following text in your response contains PII:\n",
            "If interested, apply at not_a_real_email@guardrailsai.com\n"
          ]
        }
      ],
      "source": [
        "from guardrails import Guard\n",
        "from guardrails.hub import DetectPII\n",
        "# Setup Guard\n",
        "guard = Guard().use(DetectPII, [\"EMAIL_ADDRESS\", \"PHONE_NUMBER\"], \"exception\")\n",
        "\n",
        "guard.validate(\"Good morning!\")  # Validator passes\n",
        "try:\n",
        "    guard.validate(\n",
        "        \"If interested, apply at not_a_real_email@guardrailsai.com\"\n",
        "    )  # Validator fails\n",
        "except Exception as e:\n",
        "    print(e)\n"
      ]
    },
    {
      "cell_type": "code",
      "execution_count": 4,
      "metadata": {
        "colab": {
          "base_uri": "https://localhost:8080/"
        },
        "id": "QdffSMdGptvi",
        "outputId": "39d8befb-40fb-41ff-c969-74c3ae2047c5"
      },
      "outputs": [
        {
          "output_type": "stream",
          "name": "stdout",
          "text": [
            "Installing hub:\u001b[35m/\u001b[0m\u001b[35m/cartesia/\u001b[0m\u001b[95mfinancial_tone...\u001b[0m\n",
            "\u001b[2K\u001b[32m[   =]\u001b[0m Fetching manifest\n",
            "\u001b[2K\u001b[32m[==  ]\u001b[0m Downloading dependencies  Running command git clone --filter=blob:none --quiet https://github.com/krandiash/financial-tone.git /tmp/pip-req-build-xlkr654y\n",
            "\u001b[2K\u001b[32m[  ==]\u001b[0m Downloading dependencies\n",
            "\u001b[2K\u001b[32m[ ===]\u001b[0m Running post-install setup2024-06-25 18:43:18.978220: E external/local_xla/xla/stream_executor/cuda/cuda_dnn.cc:9261] Unable to register cuDNN factory: Attempting to register factory for plugin cuDNN when one has already been registered\n",
            "2024-06-25 18:43:18.978298: E external/local_xla/xla/stream_executor/cuda/cuda_fft.cc:607] Unable to register cuFFT factory: Attempting to register factory for plugin cuFFT when one has already been registered\n",
            "2024-06-25 18:43:18.980622: E external/local_xla/xla/stream_executor/cuda/cuda_blas.cc:1515] Unable to register cuBLAS factory: Attempting to register factory for plugin cuBLAS when one has already been registered\n",
            "\u001b[2K\u001b[32m[  ==]\u001b[0m Running post-install setup2024-06-25 18:43:18.993951: I tensorflow/core/platform/cpu_feature_guard.cc:182] This TensorFlow binary is optimized to use available CPU instructions in performance-critical operations.\n",
            "To enable the following instructions: AVX2 FMA, in other operations, rebuild TensorFlow with the appropriate compiler flags.\n",
            "\u001b[2K\u001b[32m[==  ]\u001b[0m Running post-install setup2024-06-25 18:43:20.773973: W tensorflow/compiler/tf2tensorrt/utils/py_utils.cc:38] TF-TRT Warning: Could not find TensorRT\n",
            "config.json: 100% 533/533 [00:00<00:00, 2.74MB/s]\n",
            "pytorch_model.bin: 100% 439M/439M [00:06<00:00, 70.6MB/s]\n",
            "vocab.txt: 100% 226k/226k [00:00<00:00, 1.84MB/s]\n",
            "\u001b[2K\u001b[32m[ ===]\u001b[0m Running post-install setup\n",
            "\u001b[1A\u001b[2K✅Successfully installed cartesia/financial_tone!\n",
            "\n",
            "\n",
            "\u001b[1mImport validator:\u001b[0m\n",
            "from guardrails.hub import FinancialTone\n",
            "\n",
            "\u001b[1mGet more info:\u001b[0m\n",
            "\u001b[4;94mhttps://hub.guardrailsai.com/validator/cartesia/financial_tone\u001b[0m\n",
            "\n"
          ]
        }
      ],
      "source": [
        "!guardrails hub install hub://cartesia/financial_tone"
      ]
    },
    {
      "cell_type": "code",
      "source": [],
      "metadata": {
        "id": "cjSBmWuzjyIW"
      },
      "execution_count": null,
      "outputs": []
    },
    {
      "cell_type": "markdown",
      "metadata": {
        "id": "2RutvFgSUYeo"
      },
      "source": []
    },
    {
      "cell_type": "code",
      "execution_count": null,
      "metadata": {
        "colab": {
          "base_uri": "https://localhost:8080/"
        },
        "id": "aMokkWmKT2QY",
        "outputId": "3a709156-e530-46d5-8839-7fc12c45bc50"
      },
      "outputs": [
        {
          "name": "stdout",
          "output_type": "stream",
          "text": [
            "<s>[INST] You are AI  \n",
            "                  \n",
            "\n",
            "                  1. Provide answers that are relevant to the topic requested by user\n",
            "                  2. Responses should be  harmless, nontoxic, polite and relevant to the information requested by user.\n",
            "                  3. Internalize the context supplied by the user and respond only if the context fits in the topics like \"Financial Information\",\"Banking information\",\"Machine learning\", \"Deeplearning\", \"Generative AI\". \n",
            "                  4. If you cannot and find the information please respond politely as below \n",
            "                      - \"Apologize I am not able to assist with that answer May i help with any thing relevant to the context. Thank you\"\n",
            "                  5. Response should be within the max length of 200 tokens perform a thorough validation before responding back to the user.\n",
            "                  \n",
            "                  \n",
            "  you are strictly prohibited to make any assumptions be specific only respond with ANSWER if you find the information relevant to the context requested by the user.\n",
            "                  what is the weather at seattle\n",
            "                  [/INST]\n",
            "                  Answer: \n",
            "                </s>\n"
          ]
        }
      ],
      "source": [
        "print(text)"
      ]
    },
    {
      "cell_type": "code",
      "source": [
        "!guardrails hub install hub://guardrails/sensitive_topics"
      ],
      "metadata": {
        "colab": {
          "base_uri": "https://localhost:8080/"
        },
        "id": "rZPzKdYwvuUo",
        "outputId": "e8858b3c-27b7-4d56-93ae-280b8a893b46"
      },
      "execution_count": 3,
      "outputs": [
        {
          "output_type": "stream",
          "name": "stdout",
          "text": [
            "Installing hub:\u001b[35m/\u001b[0m\u001b[35m/guardrails/\u001b[0m\u001b[95msensitive_topics...\u001b[0m\n",
            "\u001b[2K\u001b[32m[ ===]\u001b[0m Fetching manifest\n",
            "\u001b[2K\u001b[32m[====]\u001b[0m Downloading dependencies  Running command git clone --filter=blob:none --quiet https://github.com/guardrails-ai/sensitive_topics.git /tmp/pip-req-build-4dsgpm8z\n",
            "\u001b[2K\u001b[32m[=   ]\u001b[0m Downloading dependencies\n",
            "\u001b[2K\u001b[32m[====]\u001b[0m Running post-install setup  Running command git clone --filter=blob:none --quiet https://github.com/tryolabs/restricttotopic.git /tmp/pip-req-build-_pqmdoyv\n",
            "\u001b[2K\u001b[32m[ ===]\u001b[0m Running post-install setup\n",
            "\u001b[1A\u001b[2K✅Successfully installed guardrails/sensitive_topics!\n",
            "\n",
            "\n",
            "\u001b[1mImport validator:\u001b[0m\n",
            "from guardrails.hub import SensitiveTopic\n",
            "\n",
            "\u001b[1mGet more info:\u001b[0m\n",
            "\u001b[4;94mhttps://hub.guardrailsai.com/validator/guardrails/sensitive_topics\u001b[0m\n",
            "\n"
          ]
        }
      ]
    },
    {
      "cell_type": "code",
      "source": [
        "!guardrails hub install hub://tryolabs/restricttotopic"
      ],
      "metadata": {
        "colab": {
          "base_uri": "https://localhost:8080/"
        },
        "id": "GB3k25eGvxSQ",
        "outputId": "b6af1b3e-4ae4-4eb8-fa5b-7bb1f30cfa69"
      },
      "execution_count": 4,
      "outputs": [
        {
          "output_type": "stream",
          "name": "stdout",
          "text": [
            "Installing hub:\u001b[35m/\u001b[0m\u001b[35m/tryolabs/\u001b[0m\u001b[95mrestricttotopic...\u001b[0m\n",
            "\u001b[2K\u001b[32m[ ===]\u001b[0m Fetching manifest\n",
            "\u001b[2K\u001b[32m[====]\u001b[0m Downloading dependencies  Running command git clone --filter=blob:none --quiet https://github.com/tryolabs/restricttotopic.git /tmp/pip-req-build-qhbl9hrj\n",
            "\u001b[2K\u001b[32m[=   ]\u001b[0m Downloading dependencies\u001b[33mWARNING: Target directory /usr/local/lib/python3.10/dist-packages/guardrails/hub/tryolabs/restricttotopic/restricttotopic-0.0.0.dist-info already exists. Specify --upgrade to force replacement.\u001b[0m\u001b[33m\n",
            "\u001b[0m\u001b[33mWARNING: Target directory /usr/local/lib/python3.10/dist-packages/guardrails/hub/tryolabs/restricttotopic/validator already exists. Specify --upgrade to force replacement.\u001b[0m\u001b[33m\n",
            "\u001b[2K\u001b[32m[ ===]\u001b[0m Downloading dependencies\n",
            "\u001b[1A\u001b[2K\u001b[?25l\u001b[32m[    ]\u001b[0m Running post-install setup\n",
            "\u001b[1A\u001b[2K✅Successfully installed tryolabs/restricttotopic!\n",
            "\n",
            "\n",
            "\u001b[1mImport validator:\u001b[0m\n",
            "from guardrails.hub import RestrictToTopic\n",
            "\n",
            "\u001b[1mGet more info:\u001b[0m\n",
            "\u001b[4;94mhttps://hub.guardrailsai.com/validator/tryolabs/restricttotopic\u001b[0m\n",
            "\n"
          ]
        }
      ]
    },
    {
      "cell_type": "code",
      "source": [
        "from Guardrailsloader import *\n",
        "from helperutil import read_yaml_conf,intializelogger\n",
        "logger = intializelogger()\n",
        "configfile=\"/content/llmconf.yaml\"\n",
        "\n",
        "def guardrespinvoker(prompt,validation_args=\"full\"):\n",
        "    guardresponse = (Guardloader(logger,\n",
        "                              configfile,\n",
        "                              contextinp=prompt,\n",
        "                              validation_args=validation_args)).evalrunner()\n",
        "    return guardresponse"
      ],
      "metadata": {
        "colab": {
          "base_uri": "https://localhost:8080/"
        },
        "id": "YBohKVd5pAe3",
        "outputId": "46280cff-4338-45b1-e4fd-8c6fbdca17ba"
      },
      "execution_count": 1,
      "outputs": [
        {
          "output_type": "stream",
          "name": "stderr",
          "text": [
            "/usr/local/lib/python3.10/dist-packages/guardrails/validators/__init__.py:51: FutureWarning: \n",
            "    Importing validators from `guardrails.validators` is deprecated.\n",
            "    All validators are now available in the Guardrails Hub. Please install\n",
            "    and import them from the hub instead. All validators will be\n",
            "    removed from this module in the next major release.\n",
            "\n",
            "    Install with: `guardrails hub install hub://<namespace>/<validator_name>`\n",
            "    Import as: from guardrails.hub import `ValidatorName`\n",
            "    \n",
            "  warn(\n"
          ]
        }
      ]
    },
    {
      "cell_type": "markdown",
      "source": [],
      "metadata": {
        "id": "ujd_0JNePh20"
      }
    },
    {
      "cell_type": "code",
      "source": [
        "guardresponse = guardrespinvoker(prompt = \"You are fine\", validation_args=\"deterministic\")\n",
        "guardresponse"
      ],
      "metadata": {
        "colab": {
          "base_uri": "https://localhost:8080/"
        },
        "id": "TO6DAfTq21tk",
        "outputId": "1bed6ab9-c64c-4479-8e76-43aa00cbbd87"
      },
      "execution_count": 3,
      "outputs": [
        {
          "output_type": "stream",
          "name": "stderr",
          "text": [
            "/usr/local/lib/python3.10/dist-packages/huggingface_hub/file_download.py:1132: FutureWarning: `resume_download` is deprecated and will be removed in version 1.0.0. Downloads always resume when possible. If you want to force a new download, use `force_download=True`.\n",
            "  warnings.warn(\n",
            "WARNING:presidio-analyzer:configuration file /usr/local/lib/python3.10/dist-packages/conf/default.yaml not found.  Using default config: {'nlp_engine_name': 'spacy', 'models': [{'lang_code': 'en', 'model_name': 'en_core_web_lg'}]}.\n",
            "WARNING:presidio-analyzer:configuration file is missing 'ner_model_configuration'. Using default\n",
            "WARNING:presidio-analyzer:model_to_presidio_entity_mapping is missing from configuration, using default\n",
            "WARNING:presidio-analyzer:low_score_entity_names is missing from configuration, using default\n",
            "WARNING:presidio-analyzer:labels_to_ignore is missing from configuration, using default\n"
          ]
        },
        {
          "output_type": "stream",
          "name": "stdout",
          "text": [
            "Pipeline setup successfully.\n"
          ]
        },
        {
          "output_type": "stream",
          "name": "stderr",
          "text": [
            "/usr/local/lib/python3.10/dist-packages/spacy/util.py:1740: UserWarning: [W111] Jupyter notebook detected: if using `prefer_gpu()` or `require_gpu()`, include it in the same cell right before `spacy.load()` to ensure that the model is loaded on the correct device. More information: http://spacy.io/usage/v3#jupyter-notebook-gpu\n",
            "  warnings.warn(Warnings.W111)\n"
          ]
        },
        {
          "output_type": "stream",
          "name": "stdout",
          "text": [
            "Pipeline setup successfully.\n"
          ]
        },
        {
          "output_type": "stream",
          "name": "stderr",
          "text": [
            "WARNING:presidio-analyzer:Entity GENERIC_PII doesn't have the corresponding recognizer in language : en\n"
          ]
        },
        {
          "output_type": "execute_result",
          "data": {
            "text/plain": [
              "{'deterministic': {'raw_llm_output': 'You are fine',\n",
              "  'validated_output': 'You are fine',\n",
              "  'reask': None,\n",
              "  'validation_passed': True,\n",
              "  'error': None}}"
            ]
          },
          "metadata": {},
          "execution_count": 3
        }
      ]
    },
    {
      "cell_type": "code",
      "source": [
        "guardresponse = guardrespinvoker(prompt = \"You idiot\", validation_args=\"deterministic\")\n",
        "guardresponse"
      ],
      "metadata": {
        "colab": {
          "base_uri": "https://localhost:8080/"
        },
        "id": "WS9fBxyIyBEt",
        "outputId": "c72a7955-2222-4211-a490-19b91259bfba"
      },
      "execution_count": 4,
      "outputs": [
        {
          "output_type": "stream",
          "name": "stderr",
          "text": [
            "/usr/local/lib/python3.10/dist-packages/huggingface_hub/file_download.py:1132: FutureWarning: `resume_download` is deprecated and will be removed in version 1.0.0. Downloads always resume when possible. If you want to force a new download, use `force_download=True`.\n",
            "  warnings.warn(\n",
            "WARNING:presidio-analyzer:configuration file /usr/local/lib/python3.10/dist-packages/conf/default.yaml not found.  Using default config: {'nlp_engine_name': 'spacy', 'models': [{'lang_code': 'en', 'model_name': 'en_core_web_lg'}]}.\n",
            "WARNING:presidio-analyzer:configuration file is missing 'ner_model_configuration'. Using default\n",
            "WARNING:presidio-analyzer:model_to_presidio_entity_mapping is missing from configuration, using default\n",
            "WARNING:presidio-analyzer:low_score_entity_names is missing from configuration, using default\n",
            "WARNING:presidio-analyzer:labels_to_ignore is missing from configuration, using default\n"
          ]
        },
        {
          "output_type": "stream",
          "name": "stdout",
          "text": [
            "Pipeline setup successfully.\n"
          ]
        },
        {
          "output_type": "stream",
          "name": "stderr",
          "text": [
            "/usr/local/lib/python3.10/dist-packages/spacy/util.py:1740: UserWarning: [W111] Jupyter notebook detected: if using `prefer_gpu()` or `require_gpu()`, include it in the same cell right before `spacy.load()` to ensure that the model is loaded on the correct device. More information: http://spacy.io/usage/v3#jupyter-notebook-gpu\n",
            "  warnings.warn(Warnings.W111)\n"
          ]
        },
        {
          "output_type": "stream",
          "name": "stdout",
          "text": [
            "Pipeline setup successfully.\n"
          ]
        },
        {
          "output_type": "stream",
          "name": "stderr",
          "text": [
            "ERROR:root:at error block\n"
          ]
        },
        {
          "output_type": "execute_result",
          "data": {
            "text/plain": [
              "{'deterministic': 'Validation failed for field with errors: The following sentences in your response were found to be gibberish:\\n\\n- You idiot'}"
            ]
          },
          "metadata": {},
          "execution_count": 4
        }
      ]
    },
    {
      "cell_type": "code",
      "source": [
        "guardresponse = guardrespinvoker(prompt = \"You idiot\", validation_args=\"probablistic\")\n",
        "guardresponse"
      ],
      "metadata": {
        "colab": {
          "base_uri": "https://localhost:8080/"
        },
        "id": "Rfl4LgrE3g6m",
        "outputId": "2aeca00b-58c4-4159-8dbc-3286de431b85"
      },
      "execution_count": 5,
      "outputs": [
        {
          "output_type": "stream",
          "name": "stderr",
          "text": [
            "ERROR:root:at error block\n"
          ]
        },
        {
          "output_type": "execute_result",
          "data": {
            "text/plain": [
              "{'probablistic': 'senstivetopics'}"
            ]
          },
          "metadata": {},
          "execution_count": 5
        }
      ]
    },
    {
      "cell_type": "code",
      "source": [
        "from guardrails import Guard\n",
        "from guardrails.hub import SensitiveTopic,RestrictToTopic\n",
        "\n",
        "# Setup Guard\n",
        "guard = Guard().use(\n",
        "    RestrictToTopic(\n",
        "        valid_topics=[\"sports\"],\n",
        "        invalid_topics=[\"music\"],\n",
        "        disable_classifier=True,\n",
        "        disable_llm=True,\n",
        "        on_fail=\"exception\"\n",
        "    )\n",
        ")\n",
        "\n",
        "# Test passing response\n",
        "guard.validate(\n",
        "    \"San Francisco is known for its cool summers, fog, steep rolling hills, eclectic mix of architecture, and landmarks, including the Golden Gate Bridge, cable cars, the former Alcatraz Federal Penitentiary, Fisherman's Wharf, and its Chinatown district.\",\n",
        ")"
      ],
      "metadata": {
        "colab": {
          "base_uri": "https://localhost:8080/",
          "height": 428
        },
        "id": "EdCF5214SLC7",
        "outputId": "64b07555-afd2-4eea-abac-c4b5faeae7a3"
      },
      "execution_count": 11,
      "outputs": [
        {
          "output_type": "error",
          "ename": "ValueError",
          "evalue": "Either classifier or llm must be enabled.",
          "traceback": [
            "\u001b[0;31m---------------------------------------------------------------------------\u001b[0m",
            "\u001b[0;31mValueError\u001b[0m                                Traceback (most recent call last)",
            "\u001b[0;32m<ipython-input-11-6b8aa8a8532e>\u001b[0m in \u001b[0;36m<cell line: 16>\u001b[0;34m()\u001b[0m\n\u001b[1;32m     14\u001b[0m \u001b[0;34m\u001b[0m\u001b[0m\n\u001b[1;32m     15\u001b[0m \u001b[0;31m# Test passing response\u001b[0m\u001b[0;34m\u001b[0m\u001b[0;34m\u001b[0m\u001b[0m\n\u001b[0;32m---> 16\u001b[0;31m guard.validate(\n\u001b[0m\u001b[1;32m     17\u001b[0m     \u001b[0;34m\"San Francisco is known for its cool summers, fog, steep rolling hills, eclectic mix of architecture, and landmarks, including the Golden Gate Bridge, cable cars, the former Alcatraz Federal Penitentiary, Fisherman's Wharf, and its Chinatown district.\"\u001b[0m\u001b[0;34m,\u001b[0m\u001b[0;34m\u001b[0m\u001b[0;34m\u001b[0m\u001b[0m\n\u001b[1;32m     18\u001b[0m )\n",
            "\u001b[0;32m/usr/local/lib/python3.10/dist-packages/guardrails/guard.py\u001b[0m in \u001b[0;36mvalidate\u001b[0;34m(self, llm_output, *args, **kwargs)\u001b[0m\n\u001b[1;32m   1373\u001b[0m             \u001b[0mself\u001b[0m\u001b[0;34m.\u001b[0m\u001b[0m_save\u001b[0m\u001b[0;34m(\u001b[0m\u001b[0;34m)\u001b[0m\u001b[0;34m\u001b[0m\u001b[0;34m\u001b[0m\u001b[0m\n\u001b[1;32m   1374\u001b[0m \u001b[0;34m\u001b[0m\u001b[0m\n\u001b[0;32m-> 1375\u001b[0;31m         \u001b[0;32mreturn\u001b[0m \u001b[0mself\u001b[0m\u001b[0;34m.\u001b[0m\u001b[0mparse\u001b[0m\u001b[0;34m(\u001b[0m\u001b[0mllm_output\u001b[0m\u001b[0;34m=\u001b[0m\u001b[0mllm_output\u001b[0m\u001b[0;34m,\u001b[0m \u001b[0;34m*\u001b[0m\u001b[0margs\u001b[0m\u001b[0;34m,\u001b[0m \u001b[0;34m**\u001b[0m\u001b[0mkwargs\u001b[0m\u001b[0;34m)\u001b[0m\u001b[0;34m\u001b[0m\u001b[0;34m\u001b[0m\u001b[0m\n\u001b[0m\u001b[1;32m   1376\u001b[0m \u001b[0;34m\u001b[0m\u001b[0m\n\u001b[1;32m   1377\u001b[0m     \u001b[0;31m# No call support for this until\u001b[0m\u001b[0;34m\u001b[0m\u001b[0;34m\u001b[0m\u001b[0m\n",
            "\u001b[0;32m/usr/local/lib/python3.10/dist-packages/guardrails/guard.py\u001b[0m in \u001b[0;36mparse\u001b[0;34m(self, llm_output, metadata, llm_api, num_reasks, prompt_params, full_schema_reask, *args, **kwargs)\u001b[0m\n\u001b[1;32m   1044\u001b[0m \u001b[0;34m\u001b[0m\u001b[0m\n\u001b[1;32m   1045\u001b[0m         \u001b[0mguard_context\u001b[0m \u001b[0;34m=\u001b[0m \u001b[0mcontextvars\u001b[0m\u001b[0;34m.\u001b[0m\u001b[0mContext\u001b[0m\u001b[0;34m(\u001b[0m\u001b[0;34m)\u001b[0m\u001b[0;34m\u001b[0m\u001b[0;34m\u001b[0m\u001b[0m\n\u001b[0;32m-> 1046\u001b[0;31m         return guard_context.run(\n\u001b[0m\u001b[1;32m   1047\u001b[0m             \u001b[0m__parse\u001b[0m\u001b[0;34m,\u001b[0m\u001b[0;34m\u001b[0m\u001b[0;34m\u001b[0m\u001b[0m\n\u001b[1;32m   1048\u001b[0m             \u001b[0mself\u001b[0m\u001b[0;34m,\u001b[0m\u001b[0;34m\u001b[0m\u001b[0;34m\u001b[0m\u001b[0m\n",
            "\u001b[0;32m/usr/local/lib/python3.10/dist-packages/guardrails/guard.py\u001b[0m in \u001b[0;36m__parse\u001b[0;34m(self, llm_output, metadata, llm_api, num_reasks, prompt_params, full_schema_reask, *args, **kwargs)\u001b[0m\n\u001b[1;32m   1031\u001b[0m                 )\n\u001b[1;32m   1032\u001b[0m             \u001b[0;31m# Otherwise, call the LLM synchronously\u001b[0m\u001b[0;34m\u001b[0m\u001b[0;34m\u001b[0m\u001b[0m\n\u001b[0;32m-> 1033\u001b[0;31m             return self._sync_parse(\n\u001b[0m\u001b[1;32m   1034\u001b[0m                 \u001b[0mllm_output\u001b[0m\u001b[0;34m,\u001b[0m\u001b[0;34m\u001b[0m\u001b[0;34m\u001b[0m\u001b[0m\n\u001b[1;32m   1035\u001b[0m                 \u001b[0mmetadata\u001b[0m\u001b[0;34m,\u001b[0m\u001b[0;34m\u001b[0m\u001b[0;34m\u001b[0m\u001b[0m\n",
            "\u001b[0;32m/usr/local/lib/python3.10/dist-packages/guardrails/guard.py\u001b[0m in \u001b[0;36m_sync_parse\u001b[0;34m(self, llm_output, metadata, llm_api, num_reasks, prompt_params, full_schema_reask, call_log, *args, **kwargs)\u001b[0m\n\u001b[1;32m   1095\u001b[0m             \u001b[0mdisable_tracer\u001b[0m\u001b[0;34m=\u001b[0m\u001b[0mself\u001b[0m\u001b[0;34m.\u001b[0m\u001b[0m_disable_tracer\u001b[0m\u001b[0;34m,\u001b[0m\u001b[0;34m\u001b[0m\u001b[0;34m\u001b[0m\u001b[0m\n\u001b[1;32m   1096\u001b[0m         )\n\u001b[0;32m-> 1097\u001b[0;31m         \u001b[0mcall\u001b[0m \u001b[0;34m=\u001b[0m \u001b[0mrunner\u001b[0m\u001b[0;34m(\u001b[0m\u001b[0mcall_log\u001b[0m\u001b[0;34m=\u001b[0m\u001b[0mcall_log\u001b[0m\u001b[0;34m,\u001b[0m \u001b[0mprompt_params\u001b[0m\u001b[0;34m=\u001b[0m\u001b[0mprompt_params\u001b[0m\u001b[0;34m)\u001b[0m\u001b[0;34m\u001b[0m\u001b[0;34m\u001b[0m\u001b[0m\n\u001b[0m\u001b[1;32m   1098\u001b[0m \u001b[0;34m\u001b[0m\u001b[0m\n\u001b[1;32m   1099\u001b[0m         \u001b[0;32mreturn\u001b[0m \u001b[0mValidationOutcome\u001b[0m\u001b[0;34m[\u001b[0m\u001b[0mOT\u001b[0m\u001b[0;34m]\u001b[0m\u001b[0;34m.\u001b[0m\u001b[0mfrom_guard_history\u001b[0m\u001b[0;34m(\u001b[0m\u001b[0mcall\u001b[0m\u001b[0;34m)\u001b[0m\u001b[0;34m\u001b[0m\u001b[0;34m\u001b[0m\u001b[0m\n",
            "\u001b[0;32m/usr/local/lib/python3.10/dist-packages/guardrails/run/runner.py\u001b[0m in \u001b[0;36m__call__\u001b[0;34m(self, call_log, prompt_params)\u001b[0m\n\u001b[1;32m    201\u001b[0m             \u001b[0;31m# Because Pydantic v1 doesn't respect property setters\u001b[0m\u001b[0;34m\u001b[0m\u001b[0;34m\u001b[0m\u001b[0m\n\u001b[1;32m    202\u001b[0m             \u001b[0mcall_log\u001b[0m\u001b[0;34m.\u001b[0m\u001b[0m_exception\u001b[0m \u001b[0;34m=\u001b[0m \u001b[0me\u001b[0m\u001b[0;34m\u001b[0m\u001b[0;34m\u001b[0m\u001b[0m\n\u001b[0;32m--> 203\u001b[0;31m             \u001b[0;32mraise\u001b[0m \u001b[0me\u001b[0m\u001b[0;34m\u001b[0m\u001b[0;34m\u001b[0m\u001b[0m\n\u001b[0m\u001b[1;32m    204\u001b[0m         \u001b[0;32mreturn\u001b[0m \u001b[0mcall_log\u001b[0m\u001b[0;34m\u001b[0m\u001b[0;34m\u001b[0m\u001b[0m\n\u001b[1;32m    205\u001b[0m \u001b[0;34m\u001b[0m\u001b[0m\n",
            "\u001b[0;32m/usr/local/lib/python3.10/dist-packages/guardrails/run/runner.py\u001b[0m in \u001b[0;36m__call__\u001b[0;34m(self, call_log, prompt_params)\u001b[0m\n\u001b[1;32m    151\u001b[0m             \u001b[0;32mfor\u001b[0m \u001b[0mindex\u001b[0m \u001b[0;32min\u001b[0m \u001b[0mrange\u001b[0m\u001b[0;34m(\u001b[0m\u001b[0mself\u001b[0m\u001b[0;34m.\u001b[0m\u001b[0mnum_reasks\u001b[0m \u001b[0;34m+\u001b[0m \u001b[0;36m1\u001b[0m\u001b[0;34m)\u001b[0m\u001b[0;34m:\u001b[0m\u001b[0;34m\u001b[0m\u001b[0;34m\u001b[0m\u001b[0m\n\u001b[1;32m    152\u001b[0m                 \u001b[0;31m# Run a single step.\u001b[0m\u001b[0;34m\u001b[0m\u001b[0;34m\u001b[0m\u001b[0m\n\u001b[0;32m--> 153\u001b[0;31m                 iteration = self.step(\n\u001b[0m\u001b[1;32m    154\u001b[0m                     \u001b[0mindex\u001b[0m\u001b[0;34m=\u001b[0m\u001b[0mindex\u001b[0m\u001b[0;34m,\u001b[0m\u001b[0;34m\u001b[0m\u001b[0;34m\u001b[0m\u001b[0m\n\u001b[1;32m    155\u001b[0m                     \u001b[0mapi\u001b[0m\u001b[0;34m=\u001b[0m\u001b[0mself\u001b[0m\u001b[0;34m.\u001b[0m\u001b[0mapi\u001b[0m\u001b[0;34m,\u001b[0m\u001b[0;34m\u001b[0m\u001b[0;34m\u001b[0m\u001b[0m\n",
            "\u001b[0;32m/usr/local/lib/python3.10/dist-packages/guardrails/utils/telemetry_utils.py\u001b[0m in \u001b[0;36mto_trace_or_not_to_trace\u001b[0;34m(*args, **kwargs)\u001b[0m\n\u001b[1;32m    213\u001b[0m                         \u001b[0;32mraise\u001b[0m \u001b[0me\u001b[0m\u001b[0;34m\u001b[0m\u001b[0;34m\u001b[0m\u001b[0m\n\u001b[1;32m    214\u001b[0m             \u001b[0;32melse\u001b[0m\u001b[0;34m:\u001b[0m\u001b[0;34m\u001b[0m\u001b[0;34m\u001b[0m\u001b[0m\n\u001b[0;32m--> 215\u001b[0;31m                 \u001b[0;32mreturn\u001b[0m \u001b[0mfn\u001b[0m\u001b[0;34m(\u001b[0m\u001b[0;34m*\u001b[0m\u001b[0margs\u001b[0m\u001b[0;34m,\u001b[0m \u001b[0;34m**\u001b[0m\u001b[0mkwargs\u001b[0m\u001b[0;34m)\u001b[0m\u001b[0;34m\u001b[0m\u001b[0;34m\u001b[0m\u001b[0m\n\u001b[0m\u001b[1;32m    216\u001b[0m \u001b[0;34m\u001b[0m\u001b[0m\n\u001b[1;32m    217\u001b[0m         \u001b[0;32mreturn\u001b[0m \u001b[0mto_trace_or_not_to_trace\u001b[0m\u001b[0;34m\u001b[0m\u001b[0;34m\u001b[0m\u001b[0m\n",
            "\u001b[0;32m/usr/local/lib/python3.10/dist-packages/guardrails/run/runner.py\u001b[0m in \u001b[0;36mstep\u001b[0;34m(self, index, api, instructions, prompt, msg_history, prompt_params, prompt_schema, instructions_schema, msg_history_schema, output_schema, call_log, output)\u001b[0m\n\u001b[1;32m    300\u001b[0m             \u001b[0miteration\u001b[0m\u001b[0;34m.\u001b[0m\u001b[0moutputs\u001b[0m\u001b[0;34m.\u001b[0m\u001b[0merror\u001b[0m \u001b[0;34m=\u001b[0m \u001b[0merror_message\u001b[0m\u001b[0;34m\u001b[0m\u001b[0;34m\u001b[0m\u001b[0m\n\u001b[1;32m    301\u001b[0m             \u001b[0miteration\u001b[0m\u001b[0;34m.\u001b[0m\u001b[0moutputs\u001b[0m\u001b[0;34m.\u001b[0m\u001b[0mexception\u001b[0m \u001b[0;34m=\u001b[0m \u001b[0me\u001b[0m\u001b[0;34m\u001b[0m\u001b[0;34m\u001b[0m\u001b[0m\n\u001b[0;32m--> 302\u001b[0;31m             \u001b[0;32mraise\u001b[0m \u001b[0me\u001b[0m\u001b[0;34m\u001b[0m\u001b[0;34m\u001b[0m\u001b[0m\n\u001b[0m\u001b[1;32m    303\u001b[0m         \u001b[0;32mreturn\u001b[0m \u001b[0miteration\u001b[0m\u001b[0;34m\u001b[0m\u001b[0;34m\u001b[0m\u001b[0m\n\u001b[1;32m    304\u001b[0m \u001b[0;34m\u001b[0m\u001b[0m\n",
            "\u001b[0;32m/usr/local/lib/python3.10/dist-packages/guardrails/run/runner.py\u001b[0m in \u001b[0;36mstep\u001b[0;34m(self, index, api, instructions, prompt, msg_history, prompt_params, prompt_schema, instructions_schema, msg_history_schema, output_schema, call_log, output)\u001b[0m\n\u001b[1;32m    283\u001b[0m             \u001b[0;32melse\u001b[0m\u001b[0;34m:\u001b[0m\u001b[0;34m\u001b[0m\u001b[0;34m\u001b[0m\u001b[0m\n\u001b[1;32m    284\u001b[0m                 \u001b[0;31m# Validate: run output validation.\u001b[0m\u001b[0;34m\u001b[0m\u001b[0;34m\u001b[0m\u001b[0m\n\u001b[0;32m--> 285\u001b[0;31m                 validated_output = self.validate(\n\u001b[0m\u001b[1;32m    286\u001b[0m                     \u001b[0miteration\u001b[0m\u001b[0;34m,\u001b[0m \u001b[0mindex\u001b[0m\u001b[0;34m,\u001b[0m \u001b[0mparsed_output\u001b[0m\u001b[0;34m,\u001b[0m \u001b[0moutput_schema\u001b[0m\u001b[0;34m\u001b[0m\u001b[0;34m\u001b[0m\u001b[0m\n\u001b[1;32m    287\u001b[0m                 )\n",
            "\u001b[0;32m/usr/local/lib/python3.10/dist-packages/guardrails/run/runner.py\u001b[0m in \u001b[0;36mvalidate\u001b[0;34m(self, iteration, index, parsed_output, output_schema, stream, **kwargs)\u001b[0m\n\u001b[1;32m    553\u001b[0m         \u001b[0;34m\"\"\"Validate the output.\"\"\"\u001b[0m\u001b[0;34m\u001b[0m\u001b[0;34m\u001b[0m\u001b[0m\n\u001b[1;32m    554\u001b[0m         \u001b[0;32mif\u001b[0m \u001b[0misinstance\u001b[0m\u001b[0;34m(\u001b[0m\u001b[0moutput_schema\u001b[0m\u001b[0;34m,\u001b[0m \u001b[0mStringSchema\u001b[0m\u001b[0;34m)\u001b[0m\u001b[0;34m:\u001b[0m\u001b[0;34m\u001b[0m\u001b[0;34m\u001b[0m\u001b[0m\n\u001b[0;32m--> 555\u001b[0;31m             validated_output = output_schema.validate(\n\u001b[0m\u001b[1;32m    556\u001b[0m                 \u001b[0miteration\u001b[0m\u001b[0;34m,\u001b[0m\u001b[0;34m\u001b[0m\u001b[0;34m\u001b[0m\u001b[0m\n\u001b[1;32m    557\u001b[0m                 \u001b[0mparsed_output\u001b[0m\u001b[0;34m,\u001b[0m\u001b[0;34m\u001b[0m\u001b[0;34m\u001b[0m\u001b[0m\n",
            "\u001b[0;32m/usr/local/lib/python3.10/dist-packages/guardrails/schema/string_schema.py\u001b[0m in \u001b[0;36mvalidate\u001b[0;34m(self, iteration, data, metadata, attempt_number, disable_tracer, stream, **kwargs)\u001b[0m\n\u001b[1;32m    162\u001b[0m             },\n\u001b[1;32m    163\u001b[0m         )\n\u001b[0;32m--> 164\u001b[0;31m         validated_response, metadata = validator_service.validate(\n\u001b[0m\u001b[1;32m    165\u001b[0m             \u001b[0mvalue\u001b[0m\u001b[0;34m=\u001b[0m\u001b[0mdata\u001b[0m\u001b[0;34m,\u001b[0m\u001b[0;34m\u001b[0m\u001b[0;34m\u001b[0m\u001b[0m\n\u001b[1;32m    166\u001b[0m             \u001b[0mmetadata\u001b[0m\u001b[0;34m=\u001b[0m\u001b[0mmetadata\u001b[0m\u001b[0;34m,\u001b[0m\u001b[0;34m\u001b[0m\u001b[0;34m\u001b[0m\u001b[0m\n",
            "\u001b[0;32m/usr/local/lib/python3.10/dist-packages/guardrails/validator_service.py\u001b[0m in \u001b[0;36mvalidate\u001b[0;34m(value, metadata, validator_setup, iteration, disable_tracer, stream, **kwargs)\u001b[0m\n\u001b[1;32m    606\u001b[0m         \u001b[0mvalidator_service\u001b[0m \u001b[0;34m=\u001b[0m \u001b[0mSequentialValidatorService\u001b[0m\u001b[0;34m(\u001b[0m\u001b[0mdisable_tracer\u001b[0m\u001b[0;34m)\u001b[0m\u001b[0;34m\u001b[0m\u001b[0;34m\u001b[0m\u001b[0m\n\u001b[1;32m    607\u001b[0m \u001b[0;34m\u001b[0m\u001b[0m\n\u001b[0;32m--> 608\u001b[0;31m     return validator_service.validate(\n\u001b[0m\u001b[1;32m    609\u001b[0m         \u001b[0mvalue\u001b[0m\u001b[0;34m,\u001b[0m\u001b[0;34m\u001b[0m\u001b[0;34m\u001b[0m\u001b[0m\n\u001b[1;32m    610\u001b[0m         \u001b[0mmetadata\u001b[0m\u001b[0;34m,\u001b[0m\u001b[0;34m\u001b[0m\u001b[0;34m\u001b[0m\u001b[0m\n",
            "\u001b[0;32m/usr/local/lib/python3.10/dist-packages/guardrails/validator_service.py\u001b[0m in \u001b[0;36mvalidate\u001b[0;34m(self, value, metadata, validator_setup, iteration, path)\u001b[0m\n\u001b[1;32m    312\u001b[0m \u001b[0;34m\u001b[0m\u001b[0m\n\u001b[1;32m    313\u001b[0m         \u001b[0;31m# Validate the field\u001b[0m\u001b[0;34m\u001b[0m\u001b[0;34m\u001b[0m\u001b[0m\n\u001b[0;32m--> 314\u001b[0;31m         value, metadata = self.run_validators(\n\u001b[0m\u001b[1;32m    315\u001b[0m             \u001b[0miteration\u001b[0m\u001b[0;34m,\u001b[0m \u001b[0mvalidator_setup\u001b[0m\u001b[0;34m,\u001b[0m \u001b[0mvalue\u001b[0m\u001b[0;34m,\u001b[0m \u001b[0mmetadata\u001b[0m\u001b[0;34m,\u001b[0m \u001b[0mproperty_path\u001b[0m\u001b[0;34m\u001b[0m\u001b[0;34m\u001b[0m\u001b[0m\n\u001b[1;32m    316\u001b[0m         )\n",
            "\u001b[0;32m/usr/local/lib/python3.10/dist-packages/guardrails/validator_service.py\u001b[0m in \u001b[0;36mrun_validators\u001b[0;34m(self, iteration, validator_setup, value, metadata, property_path, stream, **kwargs)\u001b[0m\n\u001b[1;32m    236\u001b[0m         \u001b[0;31m# Validate the field\u001b[0m\u001b[0;34m\u001b[0m\u001b[0;34m\u001b[0m\u001b[0m\n\u001b[1;32m    237\u001b[0m         \u001b[0;32mfor\u001b[0m \u001b[0mvalidator\u001b[0m \u001b[0;32min\u001b[0m \u001b[0mvalidator_setup\u001b[0m\u001b[0;34m.\u001b[0m\u001b[0mvalidators\u001b[0m\u001b[0;34m:\u001b[0m\u001b[0;34m\u001b[0m\u001b[0;34m\u001b[0m\u001b[0m\n\u001b[0;32m--> 238\u001b[0;31m             validator_logs = self.run_validator(\n\u001b[0m\u001b[1;32m    239\u001b[0m                 \u001b[0miteration\u001b[0m\u001b[0;34m,\u001b[0m \u001b[0mvalidator\u001b[0m\u001b[0;34m,\u001b[0m \u001b[0mvalue\u001b[0m\u001b[0;34m,\u001b[0m \u001b[0mmetadata\u001b[0m\u001b[0;34m,\u001b[0m \u001b[0mproperty_path\u001b[0m\u001b[0;34m,\u001b[0m \u001b[0mstream\u001b[0m\u001b[0;34m,\u001b[0m \u001b[0;34m**\u001b[0m\u001b[0mkwargs\u001b[0m\u001b[0;34m\u001b[0m\u001b[0;34m\u001b[0m\u001b[0m\n\u001b[1;32m    240\u001b[0m             )\n",
            "\u001b[0;32m/usr/local/lib/python3.10/dist-packages/guardrails/validator_service.py\u001b[0m in \u001b[0;36mrun_validator\u001b[0;34m(self, iteration, validator, value, metadata, property_path, stream, **kwargs)\u001b[0m\n\u001b[1;32m    218\u001b[0m         )\n\u001b[1;32m    219\u001b[0m \u001b[0;34m\u001b[0m\u001b[0m\n\u001b[0;32m--> 220\u001b[0;31m         result = self.run_validator_sync(\n\u001b[0m\u001b[1;32m    221\u001b[0m             \u001b[0mvalidator\u001b[0m\u001b[0;34m,\u001b[0m \u001b[0mvalue\u001b[0m\u001b[0;34m,\u001b[0m \u001b[0mmetadata\u001b[0m\u001b[0;34m,\u001b[0m \u001b[0mvalidator_logs\u001b[0m\u001b[0;34m,\u001b[0m \u001b[0mstream\u001b[0m\u001b[0;34m,\u001b[0m \u001b[0;34m**\u001b[0m\u001b[0mkwargs\u001b[0m\u001b[0;34m\u001b[0m\u001b[0;34m\u001b[0m\u001b[0m\n\u001b[1;32m    222\u001b[0m         )\n",
            "\u001b[0;32m/usr/local/lib/python3.10/dist-packages/guardrails/validator_service.py\u001b[0m in \u001b[0;36mrun_validator_sync\u001b[0;34m(self, validator, value, metadata, validator_logs, stream, **kwargs)\u001b[0m\n\u001b[1;32m    192\u001b[0m         \u001b[0;34m**\u001b[0m\u001b[0mkwargs\u001b[0m\u001b[0;34m,\u001b[0m\u001b[0;34m\u001b[0m\u001b[0;34m\u001b[0m\u001b[0m\n\u001b[1;32m    193\u001b[0m     ) -> ValidationResult:\n\u001b[0;32m--> 194\u001b[0;31m         \u001b[0mresult\u001b[0m \u001b[0;34m=\u001b[0m \u001b[0mself\u001b[0m\u001b[0;34m.\u001b[0m\u001b[0mexecute_validator\u001b[0m\u001b[0;34m(\u001b[0m\u001b[0mvalidator\u001b[0m\u001b[0;34m,\u001b[0m \u001b[0mvalue\u001b[0m\u001b[0;34m,\u001b[0m \u001b[0mmetadata\u001b[0m\u001b[0;34m,\u001b[0m \u001b[0mstream\u001b[0m\u001b[0;34m,\u001b[0m \u001b[0;34m**\u001b[0m\u001b[0mkwargs\u001b[0m\u001b[0;34m)\u001b[0m\u001b[0;34m\u001b[0m\u001b[0;34m\u001b[0m\u001b[0m\n\u001b[0m\u001b[1;32m    195\u001b[0m         \u001b[0;32mif\u001b[0m \u001b[0masyncio\u001b[0m\u001b[0;34m.\u001b[0m\u001b[0miscoroutine\u001b[0m\u001b[0;34m(\u001b[0m\u001b[0mresult\u001b[0m\u001b[0;34m)\u001b[0m\u001b[0;34m:\u001b[0m\u001b[0;34m\u001b[0m\u001b[0;34m\u001b[0m\u001b[0m\n\u001b[1;32m    196\u001b[0m             raise UserFacingException(\n",
            "\u001b[0;32m/usr/local/lib/python3.10/dist-packages/guardrails/validator_service.py\u001b[0m in \u001b[0;36mexecute_validator\u001b[0;34m(self, validator, value, metadata, stream, **kwargs)\u001b[0m\n\u001b[1;32m     61\u001b[0m             \u001b[0;34m**\u001b[0m\u001b[0mvalidator\u001b[0m\u001b[0;34m.\u001b[0m\u001b[0m_kwargs\u001b[0m\u001b[0;34m,\u001b[0m\u001b[0;34m\u001b[0m\u001b[0;34m\u001b[0m\u001b[0m\n\u001b[1;32m     62\u001b[0m         )(validate_func)\n\u001b[0;32m---> 63\u001b[0;31m         \u001b[0mresult\u001b[0m \u001b[0;34m=\u001b[0m \u001b[0mtraced_validator\u001b[0m\u001b[0;34m(\u001b[0m\u001b[0mvalue\u001b[0m\u001b[0;34m,\u001b[0m \u001b[0mmetadata\u001b[0m\u001b[0;34m,\u001b[0m \u001b[0;34m**\u001b[0m\u001b[0mkwargs\u001b[0m\u001b[0;34m)\u001b[0m\u001b[0;34m\u001b[0m\u001b[0;34m\u001b[0m\u001b[0m\n\u001b[0m\u001b[1;32m     64\u001b[0m         \u001b[0;32mreturn\u001b[0m \u001b[0mresult\u001b[0m\u001b[0;34m\u001b[0m\u001b[0;34m\u001b[0m\u001b[0m\n\u001b[1;32m     65\u001b[0m \u001b[0;34m\u001b[0m\u001b[0m\n",
            "\u001b[0;32m/usr/local/lib/python3.10/dist-packages/guardrails/utils/telemetry_utils.py\u001b[0m in \u001b[0;36mwithout_a_trace\u001b[0;34m(*args, **kwargs)\u001b[0m\n\u001b[1;32m    184\u001b[0m         \u001b[0;34m@\u001b[0m\u001b[0mwraps\u001b[0m\u001b[0;34m(\u001b[0m\u001b[0mfn\u001b[0m\u001b[0;34m)\u001b[0m\u001b[0;34m\u001b[0m\u001b[0;34m\u001b[0m\u001b[0m\n\u001b[1;32m    185\u001b[0m         \u001b[0;32mdef\u001b[0m \u001b[0mwithout_a_trace\u001b[0m\u001b[0;34m(\u001b[0m\u001b[0;34m*\u001b[0m\u001b[0margs\u001b[0m\u001b[0;34m,\u001b[0m \u001b[0;34m**\u001b[0m\u001b[0mkwargs\u001b[0m\u001b[0;34m)\u001b[0m\u001b[0;34m:\u001b[0m\u001b[0;34m\u001b[0m\u001b[0;34m\u001b[0m\u001b[0m\n\u001b[0;32m--> 186\u001b[0;31m             \u001b[0;32mreturn\u001b[0m \u001b[0mfn\u001b[0m\u001b[0;34m(\u001b[0m\u001b[0;34m*\u001b[0m\u001b[0margs\u001b[0m\u001b[0;34m,\u001b[0m \u001b[0;34m**\u001b[0m\u001b[0mkwargs\u001b[0m\u001b[0;34m)\u001b[0m\u001b[0;34m\u001b[0m\u001b[0;34m\u001b[0m\u001b[0m\n\u001b[0m\u001b[1;32m    187\u001b[0m \u001b[0;34m\u001b[0m\u001b[0m\n\u001b[1;32m    188\u001b[0m         \u001b[0;32mif\u001b[0m \u001b[0m_tracer\u001b[0m \u001b[0;32mis\u001b[0m \u001b[0;32mnot\u001b[0m \u001b[0;32mNone\u001b[0m \u001b[0;32mand\u001b[0m \u001b[0mhasattr\u001b[0m\u001b[0;34m(\u001b[0m\u001b[0m_tracer\u001b[0m\u001b[0;34m,\u001b[0m \u001b[0;34m\"start_as_current_span\"\u001b[0m\u001b[0;34m)\u001b[0m\u001b[0;34m:\u001b[0m\u001b[0;34m\u001b[0m\u001b[0;34m\u001b[0m\u001b[0m\n",
            "\u001b[0;32m/usr/local/lib/python3.10/dist-packages/guardrails/hub/tryolabs/restricttotopic/validator/main.py\u001b[0m in \u001b[0;36mvalidate\u001b[0;34m(self, value, metadata)\u001b[0m\n\u001b[1;32m    331\u001b[0m             \u001b[0mfound_topics\u001b[0m \u001b[0;34m=\u001b[0m \u001b[0mself\u001b[0m\u001b[0;34m.\u001b[0m\u001b[0mget_topics_zero_shot\u001b[0m\u001b[0;34m(\u001b[0m\u001b[0mvalue\u001b[0m\u001b[0;34m,\u001b[0m \u001b[0mall_topics\u001b[0m\u001b[0;34m)\u001b[0m\u001b[0;34m\u001b[0m\u001b[0;34m\u001b[0m\u001b[0m\n\u001b[1;32m    332\u001b[0m         \u001b[0;32melse\u001b[0m\u001b[0;34m:\u001b[0m\u001b[0;34m\u001b[0m\u001b[0;34m\u001b[0m\u001b[0m\n\u001b[0;32m--> 333\u001b[0;31m             \u001b[0;32mraise\u001b[0m \u001b[0mValueError\u001b[0m\u001b[0;34m(\u001b[0m\u001b[0;34m\"Either classifier or llm must be enabled.\"\u001b[0m\u001b[0;34m)\u001b[0m\u001b[0;34m\u001b[0m\u001b[0;34m\u001b[0m\u001b[0m\n\u001b[0m\u001b[1;32m    334\u001b[0m \u001b[0;34m\u001b[0m\u001b[0m\n\u001b[1;32m    335\u001b[0m         \u001b[0;31m# Determine if valid or invalid topics were found\u001b[0m\u001b[0;34m\u001b[0m\u001b[0;34m\u001b[0m\u001b[0m\n",
            "\u001b[0;31mValueError\u001b[0m: Either classifier or llm must be enabled."
          ]
        }
      ]
    },
    {
      "cell_type": "markdown",
      "source": [],
      "metadata": {
        "id": "MsUmOrKz5x-S"
      }
    },
    {
      "cell_type": "code",
      "source": [
        "guardresponse = guardrespinvoker(prompt = \"The company also declared a quarterly dividend on the outstanding shares of its 4.25 percent Fixed Rate Non-Cumulative Perpetual Preferred Stock, Series N (the Series N Preferred Stock).  Each outstanding share of the Series N Preferred Stock is represented by depositary shares, each representing a 1/40th interest in a share of Series N Preferred Stock. The dividend of $10.625 per share (equivalent to $0.265625 per outstanding depositary share) will be paid on June 3, 2024, to stockholders of record at the close of business on May 17, 2024.\")\n",
        "guardresponse"
      ],
      "metadata": {
        "colab": {
          "base_uri": "https://localhost:8080/"
        },
        "id": "7_GUqSfPS8-V",
        "outputId": "5645649d-1798-4a50-b0a1-e368fe2938bb"
      },
      "execution_count": 13,
      "outputs": [
        {
          "output_type": "stream",
          "name": "stderr",
          "text": [
            "WARNING:presidio-analyzer:configuration file /usr/local/lib/python3.10/dist-packages/conf/default.yaml not found.  Using default config: {'nlp_engine_name': 'spacy', 'models': [{'lang_code': 'en', 'model_name': 'en_core_web_lg'}]}.\n",
            "WARNING:presidio-analyzer:configuration file is missing 'ner_model_configuration'. Using default\n",
            "WARNING:presidio-analyzer:model_to_presidio_entity_mapping is missing from configuration, using default\n",
            "WARNING:presidio-analyzer:low_score_entity_names is missing from configuration, using default\n",
            "WARNING:presidio-analyzer:labels_to_ignore is missing from configuration, using default\n"
          ]
        },
        {
          "output_type": "stream",
          "name": "stdout",
          "text": [
            "Pipeline setup successfully.\n",
            "Pipeline setup successfully.\n"
          ]
        },
        {
          "output_type": "stream",
          "name": "stderr",
          "text": [
            "ERROR:root:at error block\n",
            "ERROR:root:at error block\n"
          ]
        },
        {
          "output_type": "execute_result",
          "data": {
            "text/plain": [
              "{'deterministic': 'Validation failed for field with errors: The following sentences in your response were found to be gibberish:\\n\\n- Each outstanding share of the Series N Preferred Stock is represented by depositary shares, each representing a 1/40th interest in a share of Series N Preferred Stock.',\n",
              " 'probablistic': 'senstivetopics'}"
            ]
          },
          "metadata": {},
          "execution_count": 13
        }
      ]
    },
    {
      "cell_type": "code",
      "source": [
        "guardresponse = guardrespinvoker(prompt = \"Capital One Financial Corporation is an American bank holding company specializing in credit cards, auto loans, banking, and savings accounts, headquartered in Tysons, Virginia with operations primarily in the United States.\" , validation_args=\"probablistic\")\n",
        "guardresponse"
      ],
      "metadata": {
        "colab": {
          "base_uri": "https://localhost:8080/"
        },
        "id": "XXna1fcf2XIs",
        "outputId": "995a7513-8c3e-495a-8247-4cd3167ce959"
      },
      "execution_count": 6,
      "outputs": [
        {
          "output_type": "stream",
          "name": "stderr",
          "text": [
            "ERROR:root:at error block\n"
          ]
        },
        {
          "output_type": "execute_result",
          "data": {
            "text/plain": [
              "{'probablistic': 'senstivetopics'}"
            ]
          },
          "metadata": {},
          "execution_count": 6
        }
      ]
    },
    {
      "cell_type": "markdown",
      "metadata": {
        "id": "LL6rT9QH58st"
      },
      "source": []
    }
  ],
  "metadata": {
    "accelerator": "GPU",
    "colab": {
      "gpuType": "T4",
      "provenance": []
    },
    "kernelspec": {
      "display_name": "Python 3",
      "name": "python3"
    },
    "language_info": {
      "name": "python"
    }
  },
  "nbformat": 4,
  "nbformat_minor": 0
}